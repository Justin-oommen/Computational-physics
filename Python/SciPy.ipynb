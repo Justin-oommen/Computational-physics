{
 "cells": [
  {
   "cell_type": "code",
   "execution_count": 15,
   "id": "cc958d05",
   "metadata": {},
   "outputs": [
    {
     "data": {
      "text/plain": [
       "array([ 1.,  2.,  3.,  4.,  5.,  6.,  7.,  8.,  9., 10.])"
      ]
     },
     "execution_count": 15,
     "metadata": {},
     "output_type": "execute_result"
    }
   ],
   "source": [
    "import numpy as np\n",
    "x = np.linspace(1,10,10)\n",
    "x"
   ]
  },
  {
   "cell_type": "code",
   "execution_count": 8,
   "id": "88920431",
   "metadata": {
    "collapsed": true
   },
   "outputs": [
    {
     "ename": "TypeError",
     "evalue": "_linspace_dispatcher() missing 2 required positional arguments: 'start' and 'stop'",
     "output_type": "error",
     "traceback": [
      "\u001b[0;31m---------------------------------------------------------------------------\u001b[0m",
      "\u001b[0;31mTypeError\u001b[0m                                 Traceback (most recent call last)",
      "Input \u001b[0;32mIn [8]\u001b[0m, in \u001b[0;36m<module>\u001b[0;34m\u001b[0m\n\u001b[1;32m      2\u001b[0m m1 \u001b[38;5;241m=\u001b[39m np\u001b[38;5;241m.\u001b[39mlinspace(\u001b[38;5;241m10\u001b[39m,\u001b[38;5;241m100\u001b[39m,N)\n\u001b[1;32m      3\u001b[0m m2 \u001b[38;5;241m=\u001b[39m np\u001b[38;5;241m.\u001b[39mlinspace(\u001b[38;5;241m10\u001b[39m,\u001b[38;5;241m100\u001b[39m,N)\n\u001b[0;32m----> 4\u001b[0m theta_1 \u001b[38;5;241m=\u001b[39m \u001b[43mnp\u001b[49m\u001b[38;5;241;43m.\u001b[39;49m\u001b[43mlinspace\u001b[49m\u001b[43m(\u001b[49m\u001b[43m)\u001b[49m\n",
      "File \u001b[0;32m<__array_function__ internals>:4\u001b[0m, in \u001b[0;36mlinspace\u001b[0;34m(*args, **kwargs)\u001b[0m\n",
      "\u001b[0;31mTypeError\u001b[0m: _linspace_dispatcher() missing 2 required positional arguments: 'start' and 'stop'"
     ]
    }
   ],
   "source": [
    "N = 10000\n",
    "m1 = np.linspace(10,100,N)\n",
    "m2 = np.linspace(10,100,N)\n",
    "theta_1 = np.linspace(np.cos(np.-pi),np.cos(np.pi),N)\n",
    "theta_2 = np.linspace(np.cos(np.-pi),np.cos(np.pi),N)\n",
    "chi_1 = np.linspace"
   ]
  },
  {
   "cell_type": "code",
   "execution_count": 27,
   "id": "8d097ef4",
   "metadata": {},
   "outputs": [],
   "source": [
    "x = np.random.rand(1,2,10)"
   ]
  },
  {
   "cell_type": "code",
   "execution_count": 26,
   "id": "2ae8510a",
   "metadata": {},
   "outputs": [
    {
     "data": {
      "text/plain": [
       "array([[[0.90278202, 0.66148637, 0.70712624, 0.73165616, 0.46790277,\n",
       "         0.3071676 , 0.35902943, 0.38020765, 0.47456459, 0.80475514],\n",
       "        [0.21577638, 0.98828592, 0.40513759, 0.89185733, 0.11854583,\n",
       "         0.1687697 , 0.8743261 , 0.18167209, 0.0475285 , 0.52321178]]])"
      ]
     },
     "execution_count": 26,
     "metadata": {},
     "output_type": "execute_result"
    }
   ],
   "source": [
    "x"
   ]
  },
  {
   "cell_type": "code",
   "execution_count": 28,
   "id": "4c786b94",
   "metadata": {},
   "outputs": [
    {
     "data": {
      "text/plain": [
       "numpy.ndarray"
      ]
     },
     "execution_count": 28,
     "metadata": {},
     "output_type": "execute_result"
    }
   ],
   "source": [
    "type(x)"
   ]
  },
  {
   "cell_type": "code",
   "execution_count": null,
   "id": "fb7238f7",
   "metadata": {},
   "outputs": [],
   "source": []
  }
 ],
 "metadata": {
  "kernelspec": {
   "display_name": "Python 3 (ipykernel)",
   "language": "python",
   "name": "python3"
  },
  "language_info": {
   "codemirror_mode": {
    "name": "ipython",
    "version": 3
   },
   "file_extension": ".py",
   "mimetype": "text/x-python",
   "name": "python",
   "nbconvert_exporter": "python",
   "pygments_lexer": "ipython3",
   "version": "3.9.5"
  }
 },
 "nbformat": 4,
 "nbformat_minor": 5
}
